{
 "cells": [
  {
   "cell_type": "code",
   "execution_count": 188,
   "metadata": {},
   "outputs": [],
   "source": [
    "def romanToInt(numeral_number):\n",
    "    numerals = [\"M\", \"CM\", \"D\", \"CD\", \"C\", \"XC\", \"L\", \"XL\", \"X\", \"IX\", \"V\", \"IV\", \"I\"]\n",
    "    values = [1000, 900, 500, 400, 100, 90, 50, 40, 10, 9, 5, 4, 1]\n",
    "    numerals_map = dict(zip(numerals, values))\n",
    "    num_split = []\n",
    "\n",
    "    loop_count = 0\n",
    "    fall_back_count = 0\n",
    "    while len(numerals) >= loop_count or fall_back_count >= 200:\n",
    "        idx = numeral_number.find(numerals[loop_count])\n",
    "        if idx == 0:\n",
    "            rm_idx = len(numerals[loop_count])\n",
    "            num_split.append(numeral_number[: rm_idx])\n",
    "            numeral_number = numeral_number[rm_idx :]     \n",
    "            if len(numeral_number) == 0: loop_count = len(numerals) + 1            \n",
    "        elif idx == -1 or idx >= 1:\n",
    "            loop_count += 1\n",
    "        fall_back_count += 1   \n",
    "    return(sum(numerals_map[num] for num in num_split))\n",
    "\n",
    "def intToRoman(int_number):\n",
    "    numerals_map = {10000:{1000: 'M'}, 1000: {900: 'CM', 500: 'D', 400: 'CD', 100: 'C'}, 100: {90: 'XC', \n",
    "                    50: 'L', 40: 'XL', 10: 'X'}, 10: {9: 'IX', 5: 'V', 4: 'IV', 1: 'I'}}\n",
    "\n",
    "    def get_pos_vals(number):\n",
    "        place_value = []\n",
    "        for position in [10, 100, 1000, 10000]:\n",
    "            if number == 0:\n",
    "                break\n",
    "            deci_place_value = number % position\n",
    "            number -= deci_place_value\n",
    "            place_value.append((position, deci_place_value))\n",
    "        return place_value\n",
    "    \n",
    "    def get_numeral(vals):\n",
    "        numeral = \"\"\n",
    "        for val in vals:\n",
    "            for rom_val in numerals_map[val[0]]:\n",
    "\n",
    "                if val[1] == 0:\n",
    "                    pass\n",
    "\n",
    "                elif val[1] == rom_val:\n",
    "                    numeral = numerals_map[val[0]][val[1]] + numeral\n",
    "                    break\n",
    "\n",
    "                elif val[1]/val[0]*10 > 5:\n",
    "                    iter_num = numerals_map[val[0]][int(val[0] / 10 * 5)]\n",
    "                    for i in range(int(val[1]/val[0]*10) % 5):\n",
    "                        iter_num += numerals_map[val[0]][int(1 * val[0] /10)]\n",
    "                    numeral = iter_num + numeral\n",
    "                    break\n",
    "                elif val[1]/val[0]*10 < 4:\n",
    "                    iter_num = \"\"\n",
    "                    for i in range(int(val[1]/val[0]*10)):\n",
    "                        iter_num += numerals_map[val[0]][int(1 * val[0] /10)]\n",
    "                    numeral = iter_num + numeral\n",
    "                    break\n",
    "        return numeral\n",
    "    \n",
    "    pos_vals = get_pos_vals(int_number)\n",
    "    numeral = get_numeral(pos_vals)\n",
    "\n",
    "    return numeral"
   ]
  },
  {
   "cell_type": "code",
   "execution_count": 189,
   "metadata": {},
   "outputs": [
    {
     "name": "stdout",
     "output_type": "stream",
     "text": [
      "Ran 5000 test numbers in range of 4000\n",
      "With 5000 Successful results\n"
     ]
    }
   ],
   "source": [
    "from random import randrange\n",
    "\n",
    "tests = 5000\n",
    "test_range = 4000\n",
    "results = []\n",
    "for i in range(tests):\n",
    "\n",
    "    num = randrange(1, test_range)\n",
    "    # print(f\"Test Number is: {num}\")\n",
    "    numeral = intToRoman(num)\n",
    "    # print(f\"Roman Numeral  : {numeral}\")\n",
    "    int_value = romanToInt(numeral)\n",
    "    # print(f\"Decoded Value  : {int_value}\")\n",
    "    results.append(\"True\") if int_value == num else results.append(\"False:\" + str(int_value))\n",
    "    # print(f\"Successful Test: {success}\\n\")\n",
    "\n",
    "print(f\"Ran {tests} test numbers in range of {test_range}\\nWith {results.count('True')} Successful results\")\n"
   ]
  }
 ],
 "metadata": {
  "kernelspec": {
   "display_name": "Python 3.10.6 ('.venv': venv)",
   "language": "python",
   "name": "python3"
  },
  "language_info": {
   "codemirror_mode": {
    "name": "ipython",
    "version": 3
   },
   "file_extension": ".py",
   "mimetype": "text/x-python",
   "name": "python",
   "nbconvert_exporter": "python",
   "pygments_lexer": "ipython3",
   "version": "3.10.6"
  },
  "orig_nbformat": 4,
  "vscode": {
   "interpreter": {
    "hash": "d6061ab4ed3556ce8e4f3ba15be1eb1a800068ccfab546498d998ceeb34142c4"
   }
  }
 },
 "nbformat": 4,
 "nbformat_minor": 2
}
